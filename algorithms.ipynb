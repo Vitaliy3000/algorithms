{
 "cells": [
  {
   "cell_type": "markdown",
   "metadata": {},
   "source": [
    "# Sort"
   ]
  },
  {
   "cell_type": "markdown",
   "metadata": {},
   "source": [
    "| Name          |Best               | Average          | Worst                 | Space                |\n",
    "| -------------:|:-----------------:|:----------------:|:---------------------:|:--------------------:|\n",
    "| choice sort   | $\\Omega(n^2)$     |$\\Theta(n^2)$     |$\\mathcal{O}(n^2)$     |$\\mathcal{O}(1)$      |\n",
    "| insertion sort| $\\Omega(n)$       |$\\Theta(n^2)$     |$\\mathcal{O}(n^2)$     |$\\mathcal{O}(1)$      |\n",
    "| bubble sort   | $\\Omega(n)$       |$\\Theta(n^2)$     |$\\mathcal{O}(n^2)$     |$\\mathcal{O}(1)$      |\n",
    "| count sort    | $\\Omega(n+k)$     |$\\Theta(n+k)$     |$\\mathcal{O}(n+k)$     |$\\mathcal{O}(k)$      |\n",
    "| merge sort    | $\\Omega(n\\log{n})$|$\\Theta(n\\log{n})$|$\\mathcal{O}(n\\log{n})$|$\\mathcal{O}(n)$      |\n",
    "| quick sort    | $\\Omega(n\\log{n})$|$\\Theta(n\\log{n})$|$\\mathcal{O}(n^2)$     |$\\mathcal{O}(\\log{n})$|"
   ]
  },
  {
   "cell_type": "markdown",
   "metadata": {},
   "source": [
    "## Quadratic sort"
   ]
  },
  {
   "cell_type": "markdown",
   "metadata": {},
   "source": [
    "### choice (selection) sort\n",
    "\n",
    "<img src=\"images/choice-sort.gif\">"
   ]
  },
  {
   "cell_type": "code",
   "execution_count": 1,
   "metadata": {},
   "outputs": [],
   "source": [
    "def choice_sort(array):\n",
    "    for sort_index in range(1, len(array)):\n",
    "        for i in range(sort_index+1, len(array)):\n",
    "            if array[i] < array[sort_index-1]:\n",
    "                array[i], array[sort_index-1] = array[sort_index-1], array[i]"
   ]
  },
  {
   "cell_type": "markdown",
   "metadata": {},
   "source": [
    "### insertion sort\n",
    "\n",
    "<img src=\"images/insert-sort.gif\">"
   ]
  },
  {
   "cell_type": "code",
   "execution_count": 2,
   "metadata": {},
   "outputs": [],
   "source": [
    "def insert_sort(array):\n",
    "    for sort_index in range(1, len(array)):\n",
    "        i = sort_index\n",
    "        while i > 0 and array[i-1] > array[i]:\n",
    "            array[i-1], array[i] = array[i], array[i-1]\n",
    "            i -= 1"
   ]
  },
  {
   "cell_type": "markdown",
   "metadata": {},
   "source": [
    "### bubble sort\n",
    "\n",
    "<img src=\"images/bubble-sort.gif\">"
   ]
  },
  {
   "cell_type": "code",
   "execution_count": 3,
   "metadata": {},
   "outputs": [],
   "source": [
    "def bubble_sort(array):\n",
    "    for sort_index in range(len(array)):\n",
    "        for i in range(len(array) - sort_index - 1):\n",
    "            if array[i] > array[i+1]:\n",
    "                array[i], array[i+1] = array[i+1], array[i]"
   ]
  },
  {
   "cell_type": "markdown",
   "metadata": {},
   "source": [
    "## Fast sort"
   ]
  },
  {
   "cell_type": "markdown",
   "metadata": {},
   "source": [
    "### count sort"
   ]
  },
  {
   "cell_type": "code",
   "execution_count": 4,
   "metadata": {},
   "outputs": [],
   "source": [
    "def count_sort(array, keys):\n",
    "    \"\"\"keys in sorted order\"\"\"\n",
    "    sort_array = dict.fromkeys(keys, 0)\n",
    "    for x in array:\n",
    "        sort_array[x] += 1\n",
    "\n",
    "    ind = 0\n",
    "    for key in keys:\n",
    "        for _ in range(sort_array[key]):\n",
    "            array[ind] = key\n",
    "            ind += 1"
   ]
  },
  {
   "cell_type": "markdown",
   "metadata": {},
   "source": [
    "### merge sort\n",
    "\n",
    "<img src=\"images/merge-sort.gif\">"
   ]
  },
  {
   "cell_type": "code",
   "execution_count": 5,
   "metadata": {},
   "outputs": [],
   "source": [
    "def merge(A, B):\n",
    "    C = [0]*(len(A)+len(B))\n",
    "    i = k = n = 0\n",
    "    while i < len(A) and k < len(B):\n",
    "        if A[i] <= B[k]:\n",
    "            C[n] = A[i]\n",
    "            i += 1\n",
    "        else:\n",
    "            C[n] = B[k]\n",
    "            k += 1\n",
    "        n += 1\n",
    "\n",
    "    while i < len(A):\n",
    "        C[n] = A[i]\n",
    "        i += 1\n",
    "        n += 1\n",
    "    while k < len(B):\n",
    "        C[n] = B[k]\n",
    "        k += 1\n",
    "        n += 1\n",
    "    return C\n",
    "\n",
    "\n",
    "def merge_sort(array):\n",
    "    if len(array) <= 1:\n",
    "        return\n",
    "    middle = len(array)//2\n",
    "    L = array[:middle]\n",
    "    R = array[middle:]\n",
    "    merge_sort(L)\n",
    "    merge_sort(R)\n",
    "    C = merge(L, R)\n",
    "    for i in range(len(C)):\n",
    "        array[i] = C[i]"
   ]
  },
  {
   "cell_type": "markdown",
   "metadata": {},
   "source": [
    "### quick sort\n",
    "\n",
    "<img src=\"images/quick-sort.gif\">"
   ]
  },
  {
   "cell_type": "code",
   "execution_count": 6,
   "metadata": {},
   "outputs": [],
   "source": [
    "pass"
   ]
  },
  {
   "cell_type": "markdown",
   "metadata": {},
   "source": [
    "### heap sort\n",
    "\n",
    "<img src=\"images/heap-sort.gif\">"
   ]
  },
  {
   "cell_type": "code",
   "execution_count": 7,
   "metadata": {},
   "outputs": [],
   "source": [
    "pass"
   ]
  },
  {
   "cell_type": "markdown",
   "metadata": {},
   "source": [
    "# Search"
   ]
  },
  {
   "cell_type": "markdown",
   "metadata": {},
   "source": [
    "### linear search"
   ]
  },
  {
   "cell_type": "code",
   "execution_count": 8,
   "metadata": {},
   "outputs": [],
   "source": [
    "def liner_search(x, array):\n",
    "    for ind, val in enumerate(array):\n",
    "        if x == val:\n",
    "            return ind\n",
    "    return None"
   ]
  },
  {
   "cell_type": "markdown",
   "metadata": {},
   "source": [
    "### binary search"
   ]
  },
  {
   "cell_type": "code",
   "execution_count": 9,
   "metadata": {},
   "outputs": [],
   "source": [
    "def binary_search(x, array):\n",
    "    \"\"\" array is sorted \"\"\"\n",
    "    index = left_bound(array, x)\n",
    "    if index < len(array)-1 and array[index+1] == x:\n",
    "        return index+1\n",
    "    else:\n",
    "        return None\n",
    "\n",
    "\n",
    "def left_bound(array, key):\n",
    "    left = -1\n",
    "    right = len(array)\n",
    "    while right - left > 1:\n",
    "        middle = (left + right)//2\n",
    "        if array[middle] < key:\n",
    "            left = middle\n",
    "        else:\n",
    "            right = middle\n",
    "    return left"
   ]
  },
  {
   "cell_type": "markdown",
   "metadata": {},
   "source": [
    "# Tests"
   ]
  },
  {
   "cell_type": "code",
   "execution_count": 10,
   "metadata": {},
   "outputs": [],
   "source": [
    "#!pytest"
   ]
  }
 ],
 "metadata": {
  "kernelspec": {
   "display_name": "Python 3",
   "language": "python",
   "name": "python3"
  },
  "language_info": {
   "codemirror_mode": {
    "name": "ipython",
    "version": 3
   },
   "file_extension": ".py",
   "mimetype": "text/x-python",
   "name": "python",
   "nbconvert_exporter": "python",
   "pygments_lexer": "ipython3",
   "version": "3.7.0"
  }
 },
 "nbformat": 4,
 "nbformat_minor": 2
}
