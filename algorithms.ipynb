{
 "cells": [
  {
   "cell_type": "markdown",
   "metadata": {},
   "source": [
    "# Sort"
   ]
  },
  {
   "cell_type": "markdown",
   "metadata": {},
   "source": [
    "| Name          |Best               | Average          | Worst                 | Space                |Stable|\n",
    "| -------------:|:-----------------:|:----------------:|:---------------------:|:--------------------:|:----:|\n",
    "| choice sort   | $\\Omega(n^2)$     |$\\Theta(n^2)$     |$\\mathcal{O}(n^2)$     |$\\mathcal{O}(1)$      |No    |\n",
    "| insertion sort| $\\Omega(n)$       |$\\Theta(n^2)$     |$\\mathcal{O}(n^2)$     |$\\mathcal{O}(1)$      |Yes   |\n",
    "| bubble sort   | $\\Omega(n)$       |$\\Theta(n^2)$     |$\\mathcal{O}(n^2)$     |$\\mathcal{O}(1)$      |Yes   |\n",
    "| count sort    | $\\Omega(n+k)$     |$\\Theta(n+k)$     |$\\mathcal{O}(n+k)$     |$\\mathcal{O}(k)$      |---   |\n",
    "| merge sort    | $\\Omega(n\\log{n})$|$\\Theta(n\\log{n})$|$\\mathcal{O}(n\\log{n})$|$\\mathcal{O}(n)$      |Yes   |\n",
    "| quick sort    | $\\Omega(n\\log{n})$|$\\Theta(n\\log{n})$|$\\mathcal{O}(n^2)$     |$\\mathcal{O}(1)$|No    |\n",
    "| heap sort     | $\\Omega(n\\log{n})$|$\\Theta(n\\log{n})$|$\\mathcal{O}(n\\log{n})$|$\\mathcal{O}(1)$      |No    |"
   ]
  },
  {
   "cell_type": "markdown",
   "metadata": {},
   "source": [
    "## Quadratic sort"
   ]
  },
  {
   "cell_type": "markdown",
   "metadata": {},
   "source": [
    "### choice (selection) sort\n",
    "\n",
    "<img src=\"images/choice-sort.gif\">"
   ]
  },
  {
   "cell_type": "code",
   "execution_count": 1,
   "metadata": {},
   "outputs": [],
   "source": [
    "def choice_sort(array):\n",
    "    for sort_index in range(len(array)):\n",
    "        for i in range(sort_index+1, len(array)):\n",
    "            if array[i] < array[sort_index]:\n",
    "                array[i], array[sort_index] = array[sort_index], array[i]"
   ]
  },
  {
   "cell_type": "markdown",
   "metadata": {},
   "source": [
    "### insertion sort\n",
    "\n",
    "<img src=\"images/insert-sort.gif\">"
   ]
  },
  {
   "cell_type": "code",
   "execution_count": 2,
   "metadata": {},
   "outputs": [],
   "source": [
    "def insert_sort(array):\n",
    "    for sort_index in range(1, len(array)):\n",
    "        i = sort_index\n",
    "        while i > 0 and array[i-1] > array[i]:\n",
    "            array[i-1], array[i] = array[i], array[i-1]\n",
    "            i -= 1"
   ]
  },
  {
   "cell_type": "markdown",
   "metadata": {},
   "source": [
    "### bubble sort\n",
    "\n",
    "<img src=\"images/bubble-sort.gif\">"
   ]
  },
  {
   "cell_type": "code",
   "execution_count": 3,
   "metadata": {},
   "outputs": [],
   "source": [
    "def bubble_sort(array):\n",
    "    for sort_index in range(len(array)):\n",
    "        for i in range(len(array) - sort_index - 1):\n",
    "            if array[i] > array[i+1]:\n",
    "                array[i], array[i+1] = array[i+1], array[i]"
   ]
  },
  {
   "cell_type": "markdown",
   "metadata": {},
   "source": [
    "## Fast sort"
   ]
  },
  {
   "cell_type": "markdown",
   "metadata": {},
   "source": [
    "### count sort"
   ]
  },
  {
   "cell_type": "code",
   "execution_count": 4,
   "metadata": {},
   "outputs": [],
   "source": [
    "def count_sort(array, keys):\n",
    "    \"\"\"keys in sorted order\"\"\"\n",
    "    sort_array = dict.fromkeys(keys, 0)\n",
    "    for x in array:\n",
    "        sort_array[x] += 1\n",
    "\n",
    "    ind = 0\n",
    "    for key in keys:\n",
    "        for _ in range(sort_array[key]):\n",
    "            array[ind] = key\n",
    "            ind += 1"
   ]
  },
  {
   "cell_type": "markdown",
   "metadata": {},
   "source": [
    "### merge sort\n",
    "\n",
    "<img src=\"images/merge-sort.gif\">"
   ]
  },
  {
   "cell_type": "code",
   "execution_count": 5,
   "metadata": {},
   "outputs": [],
   "source": [
    "%load_ext pycodestyle_magic"
   ]
  },
  {
   "cell_type": "code",
   "execution_count": 6,
   "metadata": {},
   "outputs": [],
   "source": [
    "def merge(A, p, q, r):\n",
    "    n1 = q - p\n",
    "    n2 = r - q\n",
    "    L = [A[p+i] for i in range(n1)] + [None]\n",
    "    R = [A[q+i] for i in range(n2)] + [None]\n",
    "    i = j = 0\n",
    "    for k in range(p, r):\n",
    "        if R[j] is None or L[i] is not None and L[i] <= R[j]:\n",
    "            A[k] = L[i]\n",
    "            i += 1\n",
    "        else:\n",
    "            A[k] = R[j]\n",
    "            j += 1\n",
    "\n",
    "\n",
    "def merge_sort(array, p=0, r=None):\n",
    "    r = len(array) if r is None else r\n",
    "    if p < r-1:\n",
    "        q = (p+r)//2\n",
    "        merge_sort(array, p, q)\n",
    "        merge_sort(array, q, r)\n",
    "        merge(array, p, q, r)"
   ]
  },
  {
   "cell_type": "markdown",
   "metadata": {},
   "source": [
    "### quick sort\n",
    "\n",
    "<img src=\"images/quick-sort.gif\">"
   ]
  },
  {
   "cell_type": "code",
   "execution_count": 7,
   "metadata": {},
   "outputs": [],
   "source": [
    "def partition(array, p, r):\n",
    "    x = array[r]\n",
    "    i = p-1\n",
    "    for j in range(p, r):\n",
    "        if array[j] <= x:\n",
    "            i += 1\n",
    "            array[i], array[j] = array[j], array[i]\n",
    "    array[i+1], array[r] = array[r], array[i+1]\n",
    "    return i + 1\n",
    "\n",
    "\n",
    "def quick_sort(array, p=0, r=None):\n",
    "    r = len(array)-1 if r is None else r\n",
    "    if p < r:\n",
    "        q = partition(array, p, r)\n",
    "        quick_sort(array, p, q-1)\n",
    "        quick_sort(array, q+1, r)"
   ]
  },
  {
   "cell_type": "markdown",
   "metadata": {},
   "source": [
    "### heap sort\n",
    "\n",
    "<img src=\"images/heap-sort.gif\">"
   ]
  },
  {
   "cell_type": "code",
   "execution_count": 8,
   "metadata": {},
   "outputs": [],
   "source": [
    "def parent(i):\n",
    "    return (i-1)//2\n",
    "\n",
    "\n",
    "def left_child(i):\n",
    "    return 2*i+1\n",
    "\n",
    "\n",
    "def right_child(i):\n",
    "    return 2*i+2\n",
    "\n",
    "\n",
    "def max_heapify(array, i, heap_size=None):\n",
    "    heap_size = len(array) if heap_size is None else heap_size\n",
    "    left = left_child(i)\n",
    "    right = right_child(i)\n",
    "    if left < heap_size and array[left] > array[i]:\n",
    "        largest = left\n",
    "    else:\n",
    "        largest = i\n",
    "    if right < heap_size and array[right] > array[largest]:\n",
    "        largest = right\n",
    "    if largest != i:\n",
    "        array[i], array[largest] = array[largest], array[i]\n",
    "        max_heapify(array, largest, heap_size)\n",
    "\n",
    "\n",
    "def build_max_heap(array):\n",
    "    for i in range(len(array)//2, -1, -1):\n",
    "        max_heapify(array, i)\n",
    "\n",
    "\n",
    "def heap_sort(array):\n",
    "    build_max_heap(array)\n",
    "    heap_size = len(array)\n",
    "    for i in range(len(array)-1, 0, -1):\n",
    "        array[0], array[i] = array[i], array[0]\n",
    "        heap_size -= 1\n",
    "        max_heapify(array, 0, heap_size)"
   ]
  },
  {
   "cell_type": "markdown",
   "metadata": {},
   "source": [
    "# Search"
   ]
  },
  {
   "cell_type": "markdown",
   "metadata": {},
   "source": [
    "### linear search"
   ]
  },
  {
   "cell_type": "code",
   "execution_count": 9,
   "metadata": {},
   "outputs": [],
   "source": [
    "def liner_search(x, array):\n",
    "    for ind, val in enumerate(array):\n",
    "        if x == val:\n",
    "            return ind\n",
    "    return None"
   ]
  },
  {
   "cell_type": "markdown",
   "metadata": {},
   "source": [
    "### binary search"
   ]
  },
  {
   "cell_type": "code",
   "execution_count": 10,
   "metadata": {},
   "outputs": [],
   "source": [
    "def binary_search(x, array):\n",
    "    \"\"\" array is sorted \"\"\"\n",
    "    index = left_bound(array, x)\n",
    "    if index < len(array)-1 and array[index+1] == x:\n",
    "        return index+1\n",
    "    else:\n",
    "        return None\n",
    "\n",
    "\n",
    "def left_bound(array, key):\n",
    "    left = -1\n",
    "    right = len(array)\n",
    "    while right - left > 1:\n",
    "        middle = (left + right)//2\n",
    "        if array[middle] < key:\n",
    "            left = middle\n",
    "        else:\n",
    "            right = middle\n",
    "    return left"
   ]
  },
  {
   "cell_type": "markdown",
   "metadata": {},
   "source": [
    "# Simple (teaching) algorithms"
   ]
  },
  {
   "cell_type": "markdown",
   "metadata": {},
   "source": [
    "## Single Pass Algorithms and Inductive functions"
   ]
  },
  {
   "cell_type": "markdown",
   "metadata": {},
   "source": [
    "### Sum"
   ]
  },
  {
   "cell_type": "code",
   "execution_count": 11,
   "metadata": {},
   "outputs": [],
   "source": [
    "def sum_on_python(iterator):\n",
    "    summ = 0\n",
    "    for x in iterator:\n",
    "        summ += x\n",
    "    return"
   ]
  },
  {
   "cell_type": "markdown",
   "metadata": {},
   "source": [
    "### Prod"
   ]
  },
  {
   "cell_type": "code",
   "execution_count": 12,
   "metadata": {},
   "outputs": [],
   "source": [
    "def prod(iterator):\n",
    "    prod = 1\n",
    "    for x in iterator:\n",
    "        prod *= x\n",
    "    return prod"
   ]
  },
  {
   "cell_type": "markdown",
   "metadata": {},
   "source": [
    "### Equal"
   ]
  },
  {
   "cell_type": "code",
   "execution_count": 13,
   "metadata": {},
   "outputs": [],
   "source": [
    "def equal(arr1, arr2):\n",
    "    if len(arr1) != len(arr2):\n",
    "        return False\n",
    "    for x, y in zip(arr1, arr2):\n",
    "        if x != y:\n",
    "            return False\n",
    "    return True"
   ]
  },
  {
   "cell_type": "markdown",
   "metadata": {},
   "source": [
    "## Recursion"
   ]
  },
  {
   "cell_type": "markdown",
   "metadata": {},
   "source": [
    "### Fibonacci number (not optimal)"
   ]
  },
  {
   "cell_type": "code",
   "execution_count": 14,
   "metadata": {},
   "outputs": [],
   "source": [
    "def fibonachi_recursive(n):\n",
    "    if n == 1 or n == 2:\n",
    "        return 1\n",
    "    else:\n",
    "        return fibonachi_recursive(n-1)+fibonachi_recursive(n-2)"
   ]
  },
  {
   "cell_type": "markdown",
   "metadata": {},
   "source": [
    "### factorial"
   ]
  },
  {
   "cell_type": "code",
   "execution_count": 15,
   "metadata": {},
   "outputs": [],
   "source": [
    "def factorial(n):\n",
    "    return 1 if n == 0 else factorial(n-1)*n"
   ]
  },
  {
   "cell_type": "markdown",
   "metadata": {},
   "source": [
    "### pow"
   ]
  },
  {
   "cell_type": "code",
   "execution_count": 16,
   "metadata": {},
   "outputs": [],
   "source": [
    "def pow_(x, n):\n",
    "    return 1 if n == 0 else pow_(x, n-1)*x"
   ]
  },
  {
   "cell_type": "markdown",
   "metadata": {},
   "source": [
    "### fast pow"
   ]
  },
  {
   "cell_type": "code",
   "execution_count": 17,
   "metadata": {},
   "outputs": [],
   "source": [
    "def fast_pow(x, n):\n",
    "    if n == 0:\n",
    "        return 1\n",
    "    elif n % 2 == 1:\n",
    "        return fast_pow(x, n-1)*x\n",
    "    elif n % 2 == 0:\n",
    "        return fast_pow(x*x, n//2)"
   ]
  },
  {
   "cell_type": "markdown",
   "metadata": {},
   "source": [
    "## Dynamic programming"
   ]
  },
  {
   "cell_type": "markdown",
   "metadata": {},
   "source": [
    "### Fibonacci number"
   ]
  },
  {
   "cell_type": "code",
   "execution_count": 18,
   "metadata": {},
   "outputs": [],
   "source": [
    "def fibonachi_dinamic(n):\n",
    "    fib = [1, 1]\n",
    "    for i in range(2, n):\n",
    "        fib.append(fib[-1]+fib[-2])\n",
    "    return fib[-1]"
   ]
  },
  {
   "cell_type": "markdown",
   "metadata": {},
   "source": [
    "# Strings"
   ]
  },
  {
   "cell_type": "code",
   "execution_count": 19,
   "metadata": {},
   "outputs": [],
   "source": [
    "pass"
   ]
  },
  {
   "cell_type": "markdown",
   "metadata": {},
   "source": [
    "# Tests"
   ]
  },
  {
   "cell_type": "code",
   "execution_count": 20,
   "metadata": {},
   "outputs": [],
   "source": [
    "#!pytest"
   ]
  }
 ],
 "metadata": {
  "kernelspec": {
   "display_name": "Python 3",
   "language": "python",
   "name": "python3"
  },
  "language_info": {
   "codemirror_mode": {
    "name": "ipython",
    "version": 3
   },
   "file_extension": ".py",
   "mimetype": "text/x-python",
   "name": "python",
   "nbconvert_exporter": "python",
   "pygments_lexer": "ipython3",
   "version": "3.7.0"
  }
 },
 "nbformat": 4,
 "nbformat_minor": 2
}
